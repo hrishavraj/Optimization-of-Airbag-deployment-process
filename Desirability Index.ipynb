{
 "cells": [
  {
   "cell_type": "code",
   "execution_count": 1,
   "metadata": {},
   "outputs": [],
   "source": [
    "import numpy as np\n",
    "import pandas as pd\n",
    "import matplotlib.pyplot as plt\n",
    "import seaborn as sns\n",
    "%matplotlib inline"
   ]
  },
  {
   "cell_type": "code",
   "execution_count": 2,
   "metadata": {},
   "outputs": [
    {
     "data": {
      "text/html": [
       "<div>\n",
       "<style scoped>\n",
       "    .dataframe tbody tr th:only-of-type {\n",
       "        vertical-align: middle;\n",
       "    }\n",
       "\n",
       "    .dataframe tbody tr th {\n",
       "        vertical-align: top;\n",
       "    }\n",
       "\n",
       "    .dataframe thead th {\n",
       "        text-align: right;\n",
       "    }\n",
       "</style>\n",
       "<table border=\"1\" class=\"dataframe\">\n",
       "  <thead>\n",
       "    <tr style=\"text-align: right;\">\n",
       "      <th></th>\n",
       "      <th>Acc_x</th>\n",
       "      <th>Topple_rate</th>\n",
       "      <th>Roll_rate</th>\n",
       "      <th>Acc_y</th>\n",
       "      <th>Accident</th>\n",
       "      <th>Airbag</th>\n",
       "    </tr>\n",
       "  </thead>\n",
       "  <tbody>\n",
       "    <tr>\n",
       "      <th>0</th>\n",
       "      <td>128.533346</td>\n",
       "      <td>13.765434</td>\n",
       "      <td>41.482979</td>\n",
       "      <td>11.257175</td>\n",
       "      <td>1.0</td>\n",
       "      <td>1.0</td>\n",
       "    </tr>\n",
       "    <tr>\n",
       "      <th>1</th>\n",
       "      <td>10.746493</td>\n",
       "      <td>19.325247</td>\n",
       "      <td>27.000041</td>\n",
       "      <td>11.081004</td>\n",
       "      <td>0.0</td>\n",
       "      <td>0.0</td>\n",
       "    </tr>\n",
       "    <tr>\n",
       "      <th>2</th>\n",
       "      <td>68.857225</td>\n",
       "      <td>16.352830</td>\n",
       "      <td>41.796872</td>\n",
       "      <td>12.836890</td>\n",
       "      <td>0.0</td>\n",
       "      <td>0.0</td>\n",
       "    </tr>\n",
       "    <tr>\n",
       "      <th>3</th>\n",
       "      <td>43.260996</td>\n",
       "      <td>4.795048</td>\n",
       "      <td>16.012463</td>\n",
       "      <td>17.343162</td>\n",
       "      <td>0.0</td>\n",
       "      <td>0.0</td>\n",
       "    </tr>\n",
       "    <tr>\n",
       "      <th>4</th>\n",
       "      <td>85.755633</td>\n",
       "      <td>18.372263</td>\n",
       "      <td>9.304257</td>\n",
       "      <td>19.913530</td>\n",
       "      <td>0.0</td>\n",
       "      <td>0.0</td>\n",
       "    </tr>\n",
       "  </tbody>\n",
       "</table>\n",
       "</div>"
      ],
      "text/plain": [
       "        Acc_x  Topple_rate  Roll_rate      Acc_y  Accident  Airbag\n",
       "0  128.533346    13.765434  41.482979  11.257175       1.0     1.0\n",
       "1   10.746493    19.325247  27.000041  11.081004       0.0     0.0\n",
       "2   68.857225    16.352830  41.796872  12.836890       0.0     0.0\n",
       "3   43.260996     4.795048  16.012463  17.343162       0.0     0.0\n",
       "4   85.755633    18.372263   9.304257  19.913530       0.0     0.0"
      ]
     },
     "execution_count": 2,
     "metadata": {},
     "output_type": "execute_result"
    }
   ],
   "source": [
    "df = pd.read_csv(r\"C:\\Users\\hrish\\Desktop\\BITS 4th Yr\\Sem 8\\ME F266 SOP\\Airbag data.csv\", header=0,index_col=0)\n",
    "df = np.abs(df)\n",
    "df.head()"
   ]
  },
  {
   "cell_type": "code",
   "execution_count": 3,
   "metadata": {},
   "outputs": [],
   "source": [
    "from sklearn.preprocessing import MinMaxScaler"
   ]
  },
  {
   "cell_type": "code",
   "execution_count": 4,
   "metadata": {},
   "outputs": [],
   "source": [
    "scale = MinMaxScaler((0,1))"
   ]
  },
  {
   "cell_type": "code",
   "execution_count": 5,
   "metadata": {},
   "outputs": [],
   "source": [
    "d1 = df.loc[:,'Acc_x']\n",
    "d2 = df.loc[:,'Acc_y']\n",
    "d3 = df.loc[:,'Topple_rate']\n",
    "d4 = df.loc[:,\"Roll_rate\"]"
   ]
  },
  {
   "cell_type": "code",
   "execution_count": 6,
   "metadata": {},
   "outputs": [],
   "source": [
    "df_scaled = scale.fit_transform(df.loc[:,'Acc_x':'Acc_y'])"
   ]
  },
  {
   "cell_type": "code",
   "execution_count": 7,
   "metadata": {},
   "outputs": [
    {
     "data": {
      "text/plain": [
       "array([[0.87334031, 0.43413396, 0.4801809 , 0.32388293],\n",
       "       [0.07301499, 0.61435094, 0.30131024, 0.31861896],\n",
       "       [0.46785948, 0.51800237, 0.48405762, 0.37108457],\n",
       "       ...,\n",
       "       [0.28594607, 0.64480855, 0.10837776, 0.44806739],\n",
       "       [0.15143569, 0.42111824, 0.61690827, 0.37559821],\n",
       "       [0.26051131, 0.2935139 , 0.33581242, 0.29139547]])"
      ]
     },
     "execution_count": 7,
     "metadata": {},
     "output_type": "execute_result"
    }
   ],
   "source": [
    "df_scaled"
   ]
  },
  {
   "cell_type": "code",
   "execution_count": 8,
   "metadata": {},
   "outputs": [],
   "source": [
    "d1 = df_scaled[:,0]\n",
    "d2 = df_scaled[:,1]\n",
    "d3 = df_scaled[:,2]\n",
    "d4 = df_scaled[:,3]"
   ]
  },
  {
   "cell_type": "code",
   "execution_count": 9,
   "metadata": {},
   "outputs": [],
   "source": [
    "D = (d1**0.4)*(d2**0.15)*(d3**0.15)*(d4**0.3)"
   ]
  },
  {
   "cell_type": "code",
   "execution_count": 10,
   "metadata": {},
   "outputs": [
    {
     "data": {
      "text/plain": [
       "array([0.53388057, 0.19340195, 0.44542272, 0.28497676, 0.43485295,\n",
       "       0.46348496, 0.27714683, 0.30878835, 0.02571276, 0.54653374,\n",
       "       0.30851178, 0.22200192, 0.17992872, 0.33929303, 0.64357984,\n",
       "       0.11670923, 0.24040812, 0.37069927, 0.42335199, 0.42730929,\n",
       "       0.22585566, 0.42733203, 0.40090129, 0.17497074, 0.3555686 ,\n",
       "       0.35066392, 0.46300186, 0.40881457, 0.31020402, 0.31146305,\n",
       "       0.17759981, 0.37474109, 0.12477798, 0.30412978, 0.29332057,\n",
       "       0.2053418 , 0.30257341, 0.28848724, 0.38186821, 0.30248252,\n",
       "       0.30972591, 0.34737012, 0.38707707, 0.21053127, 0.1816669 ,\n",
       "       0.47589971, 0.46380767, 0.46286377, 0.41004434, 0.46898823,\n",
       "       0.31371273, 0.37546894, 0.16484174, 0.28516795, 0.62662547,\n",
       "       0.14363679, 0.16324225, 0.10765651, 0.27042164, 0.37634582,\n",
       "       0.25686423, 0.23960335, 0.26673529, 0.28771423, 0.14664622,\n",
       "       0.3538611 , 0.29259256, 0.43466571, 0.27455612, 0.52383294,\n",
       "       0.44664967, 0.10842766, 0.28064753, 0.22214352, 0.12812515,\n",
       "       0.05706289, 0.09759632, 0.37724035, 0.14057797, 0.49206509,\n",
       "       0.50210051, 0.18668581, 0.27545643, 0.15900392, 0.2903867 ,\n",
       "       0.4549664 , 0.5128738 , 0.4952128 , 0.49198632, 0.39738298,\n",
       "       0.2113928 , 0.22707666, 0.09976437, 0.398866  , 0.23868455,\n",
       "       0.53831719, 0.18431442, 0.25496281, 0.33502916, 0.35489938,\n",
       "       0.19444619, 0.29554953, 0.42946527, 0.19205531, 0.44084701,\n",
       "       0.31125844, 0.21534243, 0.36103095, 0.48380894, 0.34326722,\n",
       "       0.31851339, 0.3626204 , 0.11799895, 0.23876495, 0.3301168 ,\n",
       "       0.21066949, 0.38518395, 0.39800033, 0.30921418, 0.39815697,\n",
       "       0.29762681, 0.17358503, 0.39105126, 0.37988256, 0.20227312,\n",
       "       0.20558541, 0.48784076, 0.33041404, 0.2684341 , 0.19200871,\n",
       "       0.48318573, 0.33012108, 0.26447364, 0.30695732, 0.28214359,\n",
       "       0.39079503, 0.42963924, 0.25690393, 0.55184735, 0.46559075,\n",
       "       0.41376794, 0.07507209, 0.42321694, 0.4048671 , 0.23020333,\n",
       "       0.38492935, 0.44306458, 0.36826959, 0.17712049, 0.28674293,\n",
       "       0.29742829, 0.45969685, 0.40715287, 0.39501533, 0.2951776 ,\n",
       "       0.43830881, 0.36279276, 0.01753854, 0.11235423, 0.27794655,\n",
       "       0.21208548, 0.14640474, 0.2723631 , 0.23070371, 0.39608172,\n",
       "       0.25890505, 0.14701132, 0.59538097, 0.41897915, 0.37206483,\n",
       "       0.17097885, 0.39866056, 0.33999965, 0.16679368, 0.39402421,\n",
       "       0.29192254, 0.49702469, 0.17113931, 0.21868991, 0.25883214,\n",
       "       0.33758187, 0.07498557, 0.4257371 , 0.32060249, 0.47959604,\n",
       "       0.2318801 , 0.33685132, 0.39910706, 0.54118268, 0.23608306,\n",
       "       0.348401  , 0.31143484, 0.44787863, 0.1866803 , 0.57584752,\n",
       "       0.41218855, 0.21744877, 0.0800086 , 0.28293714, 0.24884045,\n",
       "       0.45147484, 0.39663998, 0.37474107, 0.17370323, 0.18283569,\n",
       "       0.30471891, 0.45905609, 0.25471597, 0.16422762, 0.39333705,\n",
       "       0.26632991, 0.45198859, 0.28134211, 0.37737754, 0.24054759,\n",
       "       0.31234388, 0.32501054, 0.32398598, 0.18407721, 0.27357036,\n",
       "       0.39579745, 0.46631405, 0.30999519, 0.46861406, 0.43530749,\n",
       "       0.35116625, 0.42773843, 0.42017982, 0.50951111, 0.15368344,\n",
       "       0.52623304, 0.37897825, 0.19141277, 0.38065567, 0.16566388,\n",
       "       0.32091825, 0.43576763, 0.43638733, 0.52210619, 0.21602458,\n",
       "       0.36971759, 0.41389732, 0.17157254, 0.39611289, 0.30123266,\n",
       "       0.30464631, 0.21029382, 0.12336176, 0.68063908, 0.34545792,\n",
       "       0.31403781, 0.16235635, 0.44176624, 0.13592917, 0.35010424,\n",
       "       0.14614878, 0.18723647, 0.35421917, 0.3360676 , 0.2442056 ,\n",
       "       0.23222661, 0.42242061, 0.43538509, 0.473026  , 0.13022076,\n",
       "       0.26564376, 0.32295922, 0.06328151, 0.41192047, 0.39105778,\n",
       "       0.43645087, 0.33293186, 0.31353346, 0.53018006, 0.09878076,\n",
       "       0.51180707, 0.47541074, 0.24891802, 0.1021939 , 0.1976632 ,\n",
       "       0.31852313, 0.08281052, 0.23396   , 0.33737371, 0.26978084,\n",
       "       0.36044804, 0.3812801 , 0.35564249, 0.21824996, 0.43504252,\n",
       "       0.09711316, 0.16783559, 0.22694702, 0.27611306, 0.40369698,\n",
       "       0.23148134, 0.40498405, 0.30441017, 0.        , 0.28471407,\n",
       "       0.3045476 , 0.51110919, 0.28631576, 0.43461559, 0.33489218,\n",
       "       0.25383824, 0.42316241, 0.25612268, 0.32147393, 0.19711577,\n",
       "       0.09699926, 0.22250825, 0.32183634, 0.30528839, 0.07369491,\n",
       "       0.13282711, 0.33977816, 0.38813576, 0.53057406, 0.32849634,\n",
       "       0.07401259, 0.47978919, 0.08737105, 0.32610834, 0.25714552,\n",
       "       0.34965308, 0.31194103, 0.42835731, 0.2604045 , 0.22354439,\n",
       "       0.3097475 , 0.45630683, 0.1669774 , 0.4786495 , 0.23976776,\n",
       "       0.34925219, 0.34692977, 0.34807508, 0.26620656, 0.11784036,\n",
       "       0.20897668, 0.15553029, 0.41652714, 0.4689295 , 0.5596957 ,\n",
       "       0.28718717, 0.30636404, 0.27969173, 0.12052941, 0.31501009,\n",
       "       0.17326441, 0.63497132, 0.5465288 , 0.242657  , 0.43663871,\n",
       "       0.3559899 , 0.15291621, 0.19219656, 0.32912694, 0.29453529,\n",
       "       0.12000078, 0.36748906, 0.02346463, 0.45164565, 0.34133472,\n",
       "       0.29822515, 0.44101447, 0.50094313, 0.16707226, 0.09626934,\n",
       "       0.26420063, 0.10321836, 0.26757485, 0.45605766, 0.205272  ,\n",
       "       0.22696947, 0.31027305, 0.26144025, 0.37579214, 0.16523485,\n",
       "       0.28553331, 0.24842227, 0.31321745, 0.31121682, 0.3078492 ,\n",
       "       0.27526905, 0.27845831, 0.26431435, 0.2995466 , 0.134961  ,\n",
       "       0.35442825, 0.192951  , 0.41430876, 0.18566778, 0.16821846,\n",
       "       0.45308019, 0.44695964, 0.31130096, 0.38875573, 0.44158072,\n",
       "       0.23334439, 0.41168009, 0.07886804, 0.08637565, 0.24030619,\n",
       "       0.28247338, 0.51101985, 0.32654519, 0.2136177 , 0.21271904,\n",
       "       0.33725904, 0.34853217, 0.29427903, 0.2798638 , 0.32974328,\n",
       "       0.37918568, 0.16464837, 0.13707819, 0.37040388, 0.20595909,\n",
       "       0.38291737, 0.45616304, 0.26509412, 0.71123732, 0.28043895,\n",
       "       0.56105917, 0.41328261, 0.0763909 , 0.26693908, 0.32456736,\n",
       "       0.14424888, 0.62434515, 0.48706216, 0.22406881, 0.15863416,\n",
       "       0.366719  , 0.46629881, 0.30105998, 0.30482894, 0.48615184,\n",
       "       0.07756221, 0.49885971, 0.25977337, 0.24546881, 0.31389235,\n",
       "       0.46906647, 0.3237589 , 0.47242436, 0.09493507, 0.35690083,\n",
       "       0.17839673, 0.16743782, 0.39288766, 0.31602455, 0.48417676,\n",
       "       0.41707816, 0.38754996, 0.4343616 , 0.25489359, 0.38886086,\n",
       "       0.23094025, 0.36318145, 0.33637005, 0.35811311, 0.64372439,\n",
       "       0.49504087, 0.09546012, 0.21166902, 0.23534129, 0.41316278,\n",
       "       0.1438687 , 0.50558542, 0.23145705, 0.08967767, 0.30149394,\n",
       "       0.31749367, 0.49269186, 0.20756222, 0.3362543 , 0.33108382,\n",
       "       0.42881855, 0.30747894, 0.66279073, 0.43080306, 0.3644371 ,\n",
       "       0.19615518, 0.47471755, 0.351916  , 0.29688707, 0.34103346,\n",
       "       0.23585248, 0.45064357, 0.19184116, 0.44388249, 0.38348964,\n",
       "       0.33307329, 0.34354662, 0.22741742, 0.4315382 , 0.52848776,\n",
       "       0.38349293, 0.22532828, 0.25700927, 0.26992749, 0.14337961,\n",
       "       0.1800263 , 0.12308559, 0.44571581, 0.39953275, 0.49782175,\n",
       "       0.18387816, 0.27316366, 0.07235257, 0.23013088, 0.38241233,\n",
       "       0.2892301 , 0.33786788, 0.37178379, 0.54804745, 0.59603531,\n",
       "       0.32173523, 0.37762938, 0.39046659, 0.18588765, 0.36635135,\n",
       "       0.26243495, 0.25182211, 0.24310283, 0.38819537, 0.29340086,\n",
       "       0.45358958, 0.50616402, 0.34648055, 0.44387935, 0.41482014,\n",
       "       0.3629491 , 0.54473845, 0.4157259 , 0.27464288, 0.32415723,\n",
       "       0.28923523, 0.31627759, 0.12279182, 0.33911739, 0.33824359,\n",
       "       0.30765441, 0.48525899, 0.40561782, 0.32759777, 0.22688426,\n",
       "       0.17277431, 0.49753837, 0.40395127, 0.42689937, 0.45108947,\n",
       "       0.19516559, 0.29070108, 0.40668014, 0.15958482, 0.18838265,\n",
       "       0.34814313, 0.24468487, 0.1790423 , 0.18295556, 0.28892198,\n",
       "       0.34641727, 0.41958172, 0.13478288, 0.39971651, 0.44411893,\n",
       "       0.54531284, 0.67064241, 0.24489368, 0.21997696, 0.32895934,\n",
       "       0.53469839, 0.60388934, 0.1243083 , 0.46659544, 0.35604267,\n",
       "       0.2910578 , 0.34130067, 0.43835219, 0.32993847, 0.30609859,\n",
       "       0.26889186, 0.41963156, 0.30121471, 0.29845759, 0.36576062,\n",
       "       0.47541203, 0.52353942, 0.36137138, 0.05145193, 0.37797586,\n",
       "       0.33984763, 0.33493363, 0.2526149 , 0.54829924, 0.23964111,\n",
       "       0.2106599 , 0.14868258, 0.31279281, 0.43765639, 0.38954223,\n",
       "       0.09564546, 0.55550713, 0.09340772, 0.21198125, 0.46750188,\n",
       "       0.23313166, 0.28304264, 0.51245377, 0.42615626, 0.36599083,\n",
       "       0.38722565, 0.44403468, 0.6446427 , 0.35917745, 0.37830627,\n",
       "       0.2205555 , 0.34346709, 0.1043945 , 0.26599487, 0.06168443,\n",
       "       0.15658936, 0.32497029, 0.40664216, 0.39101676, 0.29522757,\n",
       "       0.29385619, 0.43414747, 0.16327105, 0.35926726, 0.43763438,\n",
       "       0.49547188, 0.29630079, 0.34289134, 0.31920715, 0.47520202,\n",
       "       0.56552964, 0.6143407 , 0.31857169, 0.40629108, 0.28916662,\n",
       "       0.06482307, 0.41543064, 0.36804814, 0.53703224, 0.24904025,\n",
       "       0.40131437, 0.2987561 , 0.2377275 , 0.52171166, 0.4496082 ,\n",
       "       0.15183505, 0.28372677, 0.21515619, 0.60517075, 0.39219755,\n",
       "       0.15398344, 0.18093158, 0.25872455, 0.46292258, 0.15480656,\n",
       "       0.31214136, 0.26250519, 0.35261502, 0.15372806, 0.37478835,\n",
       "       0.23671756, 0.41621571, 0.33437099, 0.3179821 , 0.29004558,\n",
       "       0.32358979, 0.1294221 , 0.37735548, 0.31868882, 0.26544016,\n",
       "       0.14512553, 0.28461719, 0.47848671, 0.48072313, 0.25094937,\n",
       "       0.23716422, 0.19364265, 0.04390647, 0.20850673, 0.48457584,\n",
       "       0.38470162, 0.37803815, 0.37157372, 0.27697438, 0.41549697,\n",
       "       0.29314858, 0.13925601, 0.23609953, 0.60143665, 0.59146013,\n",
       "       0.33599258, 0.26269447, 0.3886821 , 0.19115913, 0.2888407 ,\n",
       "       0.31196179, 0.31331966, 0.49014955, 0.28831663, 0.27065427,\n",
       "       0.51101015, 0.38457844, 0.26704059, 0.43569423, 0.29364477,\n",
       "       0.45603116, 0.5192623 , 0.37657733, 0.44025788, 0.41002001,\n",
       "       0.32974298, 0.29630885, 0.37410729, 0.37760417, 0.38559076,\n",
       "       0.25230711, 0.28171759, 0.18287165, 0.47731568, 0.2935911 ,\n",
       "       0.41901934, 0.49392146, 0.31581833, 0.36398665, 0.40102573,\n",
       "       0.52115189, 0.17191   , 0.43777596, 0.16320541, 0.3100075 ,\n",
       "       0.31059176, 0.52308272, 0.19199356, 0.12881401, 0.42166649,\n",
       "       0.3729581 , 0.23928508, 0.22228127, 0.45442215, 0.        ,\n",
       "       0.15835157, 0.42646875, 0.29631347, 0.49864174, 0.53087271,\n",
       "       0.26608391, 0.45083202, 0.14260115, 0.21316179, 0.34423146,\n",
       "       0.17659113, 0.38627422, 0.33217783, 0.34753032, 0.29558525,\n",
       "       0.48968645, 0.46062662, 0.13468598, 0.46732342, 0.14379638,\n",
       "       0.27294992, 0.29600231, 0.50435911, 0.33846291, 0.27003284,\n",
       "       0.4194581 , 0.44710277, 0.38605169, 0.34898736, 0.25169828,\n",
       "       0.38900424, 0.4463934 , 0.41318472, 0.28388463, 0.378906  ,\n",
       "       0.49268848, 0.43110826, 0.28953449, 0.48100287, 0.06509034,\n",
       "       0.24567438, 0.36524527, 0.3920545 , 0.09806894, 0.08306122,\n",
       "       0.45484921, 0.21603978, 0.53340765, 0.47890143, 0.1529176 ,\n",
       "       0.36741879, 0.4242913 , 0.10919301, 0.1477646 , 0.45136316,\n",
       "       0.1615455 , 0.33892753, 0.23028214, 0.35047991, 0.13317848,\n",
       "       0.35759469, 0.25955255, 0.37504803, 0.23651809, 0.25248947,\n",
       "       0.35657699, 0.09481119, 0.26134619, 0.23899982, 0.42989546,\n",
       "       0.24381236, 0.06596298, 0.37503228, 0.48100501, 0.22020276,\n",
       "       0.37457719, 0.30375131, 0.20590741, 0.39085328, 0.12908904,\n",
       "       0.32650929, 0.40290147, 0.23963354, 0.40334967, 0.34422964,\n",
       "       0.35541564, 0.26375999, 0.40279833, 0.25729888, 0.2907755 ,\n",
       "       0.24223642, 0.26702787, 0.45013167, 0.39236467, 0.55146077,\n",
       "       0.44347893, 0.19109698, 0.55085056, 0.38611691, 0.32169978,\n",
       "       0.09718622, 0.36234458, 0.29784932, 0.46955322, 0.38319962,\n",
       "       0.11940396, 0.2585615 , 0.14557679, 0.21997093, 0.26478319,\n",
       "       0.49791706, 0.14292833, 0.16980705, 0.20148876, 0.34874785,\n",
       "       0.06454562, 0.36454899, 0.34428116, 0.26237687, 0.42455645,\n",
       "       0.40857716, 0.45746575, 0.4068999 , 0.34882318, 0.20147089,\n",
       "       0.27163665, 0.14943636, 0.32300524, 0.15955258, 0.47430352,\n",
       "       0.21850057, 0.20792695, 0.33875218, 0.29663889, 0.22518279,\n",
       "       0.44040936, 0.42833588, 0.10087963, 0.21060483, 0.4203657 ,\n",
       "       0.24167909, 0.39393413, 0.31339821, 0.30696286, 0.62678729,\n",
       "       0.35151565, 0.42439533, 0.34670599, 0.2887049 , 0.24613256,\n",
       "       0.17916668, 0.39604383, 0.37754399, 0.15629494, 0.44204899,\n",
       "       0.17466348, 0.35398181, 0.18918277, 0.35364823, 0.1050645 ,\n",
       "       0.1979761 , 0.21973632, 0.57024681, 0.40381581, 0.11352566,\n",
       "       0.40751491, 0.47085501, 0.48836182, 0.27353357, 0.53387681,\n",
       "       0.3796644 , 0.3290609 , 0.47246766, 0.15661321, 0.35080571,\n",
       "       0.        , 0.21601605, 0.51558038, 0.13091743, 0.34088403,\n",
       "       0.13557596, 0.12289546, 0.63921996, 0.28001603, 0.49582416,\n",
       "       0.29313088, 0.36647109, 0.23476096, 0.08261938, 0.50287618,\n",
       "       0.2739973 , 0.36778649, 0.20767836, 0.22159469, 0.24770695,\n",
       "       0.28491943, 0.17636471, 0.30175545, 0.3859019 , 0.40749346,\n",
       "       0.1414486 , 0.15662518, 0.54448087, 0.40677412, 0.06531863,\n",
       "       0.32897773, 0.07981507, 0.45277547, 0.43882306, 0.30200086,\n",
       "       0.25856188, 0.13363593, 0.36006963, 0.17048218, 0.42453202,\n",
       "       0.21638991, 0.51136797, 0.38847315, 0.25374179, 0.33297597,\n",
       "       0.30806329, 0.        , 0.30702643, 0.5105303 , 0.28845697,\n",
       "       0.50907224, 0.20682382, 0.38742039, 0.1532673 , 0.17454775,\n",
       "       0.16674795, 0.39652035, 0.37510989, 0.31358394, 0.4074062 ,\n",
       "       0.34041603, 0.34682282, 0.17535839, 0.37318813, 0.37590824,\n",
       "       0.27454337, 0.39657023, 0.28978418, 0.18606998, 0.24218879,\n",
       "       0.43847206, 0.39937521, 0.31957463, 0.28622137, 0.28492745])"
      ]
     },
     "execution_count": 10,
     "metadata": {},
     "output_type": "execute_result"
    }
   ],
   "source": [
    "D"
   ]
  },
  {
   "cell_type": "code",
   "execution_count": 11,
   "metadata": {},
   "outputs": [
    {
     "data": {
      "text/plain": [
       "[<matplotlib.lines.Line2D at 0x1e17ee08668>]"
      ]
     },
     "execution_count": 11,
     "metadata": {},
     "output_type": "execute_result"
    },
    {
     "data": {
      "image/png": "[encoded data removed]",
      "text/plain": [
       "<Figure size 432x288 with 1 Axes>"
      ]
     },
     "metadata": {},
     "output_type": "display_data"
    }
   ],
   "source": [
    "plt.plot(range(1,1001),D)"
   ]
  },
  {
   "cell_type": "code",
   "execution_count": 12,
   "metadata": {},
   "outputs": [],
   "source": [
    "df ['Composite_Score'] = D"
   ]
  },
  {
   "cell_type": "code",
   "execution_count": 13,
   "metadata": {},
   "outputs": [],
   "source": [
    "#df.to_csv(r\"C:\\Users\\hrish\\Desktop\\BITS 4th Yr\\Sem 8\\ME F266 SoP\\Airbag data with DIndex.csv\")"
   ]
  },
  {
   "cell_type": "code",
   "execution_count": null,
   "metadata": {},
   "outputs": [],
   "source": []
  }
 ],
 "metadata": {
  "kernelspec": {
   "display_name": "Python 3",
   "language": "python",
   "name": "python3"
  },
  "language_info": {
   "codemirror_mode": {
    "name": "ipython",
    "version": 3
   },
   "file_extension": ".py",
   "mimetype": "text/x-python",
   "name": "python",
   "nbconvert_exporter": "python",
   "pygments_lexer": "ipython3",
   "version": "3.6.5"
  }
 },
 "nbformat": 4,
 "nbformat_minor": 2
}
